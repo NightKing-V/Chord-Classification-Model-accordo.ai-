{
 "cells": [
  {
   "cell_type": "markdown",
   "id": "8beff8a8",
   "metadata": {},
   "source": []
  },
  {
   "cell_type": "code",
   "execution_count": 39,
   "id": "6209f2d0",
   "metadata": {},
   "outputs": [],
   "source": [
    "import pandas as pd\n",
    "import os"
   ]
  },
  {
   "cell_type": "code",
   "execution_count": 40,
   "id": "a71bf2cb-1a02-4db5-9b4a-ca2ad9c4fb62",
   "metadata": {},
   "outputs": [],
   "source": [
    "processed_dataset = './DatasetPro/0004'\n",
    "annotations_folder = './Dataset/annotations/annotations/0004'  # Adjust path as needed\n",
    "metadata_folder = './Dataset/metadata/metadata/0004'  # Adjust path as needed"
   ]
  },
  {
   "cell_type": "code",
   "execution_count": 41,
   "id": "83ce858e-0a34-4287-a0e7-e78f9e8d0cc7",
   "metadata": {},
   "outputs": [
    {
     "name": "stdout",
     "output_type": "stream",
     "text": [
      "['A', 'Bb', 'B', 'C', 'C#', 'D', 'Eb', 'E', 'F', 'F#', 'G', 'Ab']\n",
      "   timestamp       A_B      Bb_B       B_B       C_B      C#_B       D_B  \\\n",
      "0    0.04644  0.000000  0.000000  0.000000  0.000000  0.000000  0.000000   \n",
      "1    0.09288  0.422345  0.006912  0.015634  0.286831  1.356600  0.605075   \n",
      "2    0.13932  0.259532  0.000000  0.342341  0.877206  0.646397  0.073171   \n",
      "3    0.18576  0.000933  0.000000  0.407497  1.324630  0.071384  0.000000   \n",
      "4    0.23220  0.001146  0.000000  0.000000  1.535740  0.000000  0.000000   \n",
      "\n",
      "       Eb_B       E_B       F_B  ...         B         C       C#         D  \\\n",
      "0  0.000000  0.000000  0.000000  ...  0.000000  0.000000  0.00000  0.000000   \n",
      "1  0.165295  0.000000  0.414818  ...  0.003125  0.644012  2.42598  0.209733   \n",
      "2  0.305260  0.000000  1.077640  ...  0.106856  0.876610  2.61391  0.155448   \n",
      "3  0.000000  0.436044  2.136770  ...  0.126511  0.910977  2.32499  0.000000   \n",
      "4  0.000000  0.411466  2.291890  ...  0.003299  1.048250  2.32230  0.000000   \n",
      "\n",
      "         Eb         E        F        F#         G       Ab  \n",
      "0  0.000000  0.000000  0.00000  0.000000  0.000000  0.00000  \n",
      "1  0.286500  0.000000  1.12985  0.385105  0.275073  2.14459  \n",
      "2  0.360108  0.000000  1.47494  0.793710  0.003257  2.33776  \n",
      "3  0.215319  0.194566  2.12999  0.212857  0.004974  2.61879  \n",
      "4  0.218129  0.183599  2.23154  0.042585  0.000000  2.69071  \n",
      "\n",
      "[5 rows x 25 columns]\n",
      "Structured table saved to: ./DatasetPro/0004/structured_bothchroma.csv\n"
     ]
    }
   ],
   "source": [
    "\n",
    "# Path to the sample file\n",
    "bothchroma_file = os.path.join(metadata_folder, 'bothchroma.csv')\n",
    "\n",
    "# Read the file, ignoring the first column, and only selecting relevant columns\n",
    "bothchroma_df = pd.read_csv(bothchroma_file, usecols=range(1, 26))\n",
    "\n",
    "bin_names = [\"A\", \"Bb\", \"B\", \"C\", \"C#\", \"D\", \"Eb\", \"E\", \"F\", \"F#\", \"G\", \"Ab\"];\n",
    "print(bin_names)\n",
    "\n",
    "# Rename columns for clarity\n",
    "bothchroma_df.columns = (\n",
    "    ['timestamp'] +\n",
    "    [f'{bin_names[i]}_B' for i in range(len(bin_names))] +\n",
    "    [f'{bin_names[i]}' for i in range(len(bin_names))]\n",
    ")\n",
    "\n",
    "# Display the extracted table\n",
    "print(bothchroma_df.head())\n",
    "\n",
    "# Save the structured table if needed\n",
    "os.makedirs(processed_dataset, exist_ok=True)\n",
    "output_file = os.path.join(processed_dataset, 'structured_bothchroma.csv')\n",
    "bothchroma_df.to_csv(output_file, index=False)\n",
    "print(f\"Structured table saved to: {output_file}\")\n"
   ]
  },
  {
   "cell_type": "code",
   "execution_count": 42,
   "id": "2869e5ce-d14f-4318-a21c-ad8876d3e7c0",
   "metadata": {},
   "outputs": [
    {
     "name": "stdout",
     "output_type": "stream",
     "text": [
      "Structured table saved to: ./DatasetPro/0004/structured_lab.csv\n",
      "      Start       End   Chord Inversion\n",
      "0  0.000000  0.255420       N         N\n",
      "1  0.255420  1.742781       N         N\n",
      "2  1.742781  2.114622       N         N\n",
      "3  2.114622  5.089345  Ab:maj    Ab:maj\n",
      "4  5.089345  8.064068  C#:maj  C#:maj/5\n"
     ]
    }
   ],
   "source": [
    "# Path to the sample file\n",
    "lab_file = os.path.join(annotations_folder, 'majmin7.lab')\n",
    "labinv_file = os.path.join(annotations_folder, 'majmin7inv.lab')\n",
    "\n",
    "# Map chords to match your bin naming convention\n",
    "chord_naming_map = {\n",
    "    \"Db\": \"C#\", \"D#\": \"Eb\", \"Gb\": \"F#\", \"G#\": \"Ab\", \"A#\": \"Bb\"\n",
    "}\n",
    "\n",
    "\n",
    "def standardize_chord(chord):\n",
    "    \"\"\"Convert enharmonic equivalents to match the bin naming convention.\"\"\"\n",
    "    for alt, standard in chord_naming_map.items():\n",
    "        chord = chord.replace(alt, standard)  # Replace with the preferred notation\n",
    "    return chord\n",
    "\n",
    "\n",
    "# Read the LAB files\n",
    "lab_df = pd.read_csv(lab_file, sep=\"\\t\", header=None, names=[\"Start\", \"End\", \"Chord\"])\n",
    "labinv_df = pd.read_csv(labinv_file, sep=\"\\t\", header=None, names=[\"Start\", \"End\", \"Inversion\"])\n",
    "\n",
    "lab_df[\"Chord\"] = lab_df[\"Chord\"].apply(standardize_chord)\n",
    "labinv_df[\"Inversion\"] = labinv_df[\"Inversion\"].apply(standardize_chord)\n",
    "\n",
    "\n",
    "# Merge the dataframes on Start & End times\n",
    "merged_lab_df = pd.merge(lab_df, labinv_df, on=[\"Start\", \"End\"], how=\"inner\")\n",
    "\n",
    "# Save the structured table if needed\n",
    "output_file = os.path.join(processed_dataset, 'structured_lab.csv')\n",
    "merged_lab_df.to_csv(output_file, index=False)\n",
    "print(f\"Structured table saved to: {output_file}\")\n",
    "\n",
    "# Display the merged data\n",
    "print(merged_lab_df.head())\n",
    "\n"
   ]
  },
  {
   "cell_type": "code",
   "execution_count": 43,
   "id": "87dc4043-60d0-4e34-bede-5cf670994f93",
   "metadata": {},
   "outputs": [
    {
     "name": "stdout",
     "output_type": "stream",
     "text": [
      "Merged dataset saved to: ./DatasetPro/0004/merged_chroma_lab.csv\n"
     ]
    }
   ],
   "source": [
    "# Load both CSV files\n",
    "chroma_file = os.path.join(processed_dataset, 'structured_bothchroma.csv')\n",
    "lab_file = os.path.join(processed_dataset, 'structured_lab.csv')\n",
    "\n",
    "chroma_df = pd.read_csv(chroma_file)\n",
    "lab_df = pd.read_csv(lab_file)\n",
    "\n",
    "# Convert timestamps to numeric for proper merging\n",
    "chroma_df[\"timestamp\"] = pd.to_numeric(chroma_df[\"timestamp\"])\n",
    "lab_df[\"Start\"] = pd.to_numeric(lab_df[\"Start\"])\n",
    "lab_df[\"End\"] = pd.to_numeric(lab_df[\"End\"])\n",
    "\n",
    "# Assign chord labels to chroma timestamps\n",
    "def get_chord_label(timestamp):\n",
    "    match = lab_df[(lab_df[\"Start\"] <= timestamp) & (lab_df[\"End\"] > timestamp)]\n",
    "    if not match.empty:\n",
    "            return match[\"Chord\"].values[0], match[\"Inversion\"].values[0]  # Return both values\n",
    "    return \"N\", \"N\"  # Default to \"N\" if no match\n",
    "\n",
    "\n",
    "chroma_df[[\"Chord\", \"Inversion\"]] = chroma_df[\"timestamp\"].apply(lambda t: pd.Series(get_chord_label(t)))\n",
    "\n",
    "# Save the merged dataset\n",
    "merged_file = os.path.join(processed_dataset, 'merged_chroma_lab.csv')\n",
    "chroma_df.to_csv(merged_file, index=False)\n",
    "print(f\"Merged dataset saved to: {merged_file}\")"
   ]
  },
  {
   "cell_type": "code",
   "execution_count": null,
   "id": "f365e305-2b17-41ba-8315-a6851161fc5c",
   "metadata": {},
   "outputs": [],
   "source": []
  }
 ],
 "metadata": {
  "kernelspec": {
   "display_name": "Python 3",
   "language": "python",
   "name": "python3"
  },
  "language_info": {
   "codemirror_mode": {
    "name": "ipython",
    "version": 3
   },
   "file_extension": ".py",
   "mimetype": "text/x-python",
   "name": "python",
   "nbconvert_exporter": "python",
   "pygments_lexer": "ipython3",
   "version": "3.11.0"
  }
 },
 "nbformat": 4,
 "nbformat_minor": 5
}
